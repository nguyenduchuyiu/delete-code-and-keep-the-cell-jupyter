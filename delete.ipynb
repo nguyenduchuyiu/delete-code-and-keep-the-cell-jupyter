{
 "cells": [
  {
   "cell_type": "code",
   "execution_count": 3,
   "metadata": {},
   "outputs": [],
   "source": [
    "# ref : fomightez \n",
    "#      https://discourse.jupyter.org/t/delete-all-code-cells-except-markdown-text/3072/2\n",
    "import nbformat as nbf\n",
    "ntbk = nbf.read(\"notebook_need_to_delete.ipynb\", nbf.NO_CONVERT)\n",
    "for cell in ntbk.cells:\n",
    "    if cell.cell_type == \"code\":\n",
    "        cell.source = []    \n",
    "nbf.write(ntbk, \"new_notebook.ipynb\", version=nbf.NO_CONVERT)"
   ]
  }
 ],
 "metadata": {
  "kernelspec": {
   "display_name": "gpu_env",
   "language": "python",
   "name": "python3"
  },
  "language_info": {
   "codemirror_mode": {
    "name": "ipython",
    "version": 3
   },
   "file_extension": ".py",
   "mimetype": "text/x-python",
   "name": "python",
   "nbconvert_exporter": "python",
   "pygments_lexer": "ipython3",
   "version": "3.11.5"
  }
 },
 "nbformat": 4,
 "nbformat_minor": 2
}
